{
 "cells": [
  {
   "cell_type": "markdown",
   "metadata": {},
   "source": [
    "# Chargement d'un fichier\n",
    "\n",
    "Toutefois prendre note que l'opération textFile ne fait aucun accès ou chargement.\n",
    "En réalité, ca crée un RDD et on peut y appliquer une multitude transformations sans traitement réel.\n",
    "C'est l'utilisation d'une action qui déclenche le traitement.\n",
    "Voici des exemples d'actions: count, top, "
   ]
  },
  {
   "cell_type": "markdown",
   "metadata": {},
   "source": [
    "Pointer un fichier dans un RDD et compter le nombre de lignes.\n"
   ]
  },
  {
   "cell_type": "code",
   "execution_count": 89,
   "metadata": {
    "collapsed": false,
    "scrolled": true
   },
   "outputs": [
    {
     "data": {
      "text/plain": [
       "99"
      ]
     },
     "execution_count": 89,
     "metadata": {},
     "output_type": "execute_result"
    }
   ],
   "source": [
    "acces= sc.textFile(\"/mnt/ul/ul-mpo-ts-wls01/depot_journal/mpo-testpr/mpo-server-testpr01/mpo-portail/acces.log\")\n",
    "acces.count()"
   ]
  },
  {
   "cell_type": "markdown",
   "metadata": {},
   "source": [
    "\n",
    "Regarder une ligne à titre d'exemple.\n"
   ]
  },
  {
   "cell_type": "code",
   "execution_count": 90,
   "metadata": {
    "collapsed": false
   },
   "outputs": [
    {
     "data": {
      "text/plain": [
       "[u'2016-06-09 08:31:06\\t304\\tanonyme\\tGET\\thttps://monportail.testpr.ulaval.ca:443/public/modules/requirejs/require.js\\t3ms\\t132.203.52.126\\t52c67318-ab53-4389-a0ff-9d824fdfb7b3\\tMozilla/5.0 (Windows NT 10.0; WOW64) AppleWebKit/537.36 (KHTML, like Gecko) Chrome/50.0.2661.102 Safari/537.36']"
      ]
     },
     "execution_count": 90,
     "metadata": {},
     "output_type": "execute_result"
    }
   ],
   "source": [
    "acces.top(1)"
   ]
  },
  {
   "cell_type": "markdown",
   "metadata": {},
   "source": [
    "\n",
    "Séparer les éléments via le séparateur de tabulation.\n"
   ]
  },
  {
   "cell_type": "code",
   "execution_count": 91,
   "metadata": {
    "collapsed": false
   },
   "outputs": [
    {
     "data": {
      "text/plain": [
       "99"
      ]
     },
     "execution_count": 91,
     "metadata": {},
     "output_type": "execute_result"
    }
   ],
   "source": [
    "ip = acces.map(lambda x: x.split(\"\\t\")[6])\n",
    "ip.count()"
   ]
  },
  {
   "cell_type": "code",
   "execution_count": 94,
   "metadata": {
    "collapsed": false
   },
   "outputs": [
    {
     "data": {
      "text/plain": [
       "[u'132.203.52.126',\n",
       " u'132.203.52.126',\n",
       " u'132.203.243.5',\n",
       " u'132.203.243.4',\n",
       " u'132.203.240.99',\n",
       " u'132.203.240.99',\n",
       " u'132.203.240.99',\n",
       " u'10.40.103.13',\n",
       " u'10.12.33.84',\n",
       " u'10.12.33.84']"
      ]
     },
     "execution_count": 94,
     "metadata": {},
     "output_type": "execute_result"
    }
   ],
   "source": [
    "ip.top(10)"
   ]
  },
  {
   "cell_type": "markdown",
   "metadata": {},
   "source": [
    "Grouper les adresses IP par classe A."
   ]
  },
  {
   "cell_type": "code",
   "execution_count": 93,
   "metadata": {
    "collapsed": true
   },
   "outputs": [],
   "source": [
    "classA = ip.groupBy(lambda x: x.split(\".\")[0])"
   ]
  },
  {
   "cell_type": "code",
   "execution_count": 64,
   "metadata": {
    "collapsed": false
   },
   "outputs": [
    {
     "data": {
      "text/plain": [
       "2"
      ]
     },
     "execution_count": 64,
     "metadata": {},
     "output_type": "execute_result"
    }
   ],
   "source": [
    "classA.count()"
   ]
  },
  {
   "cell_type": "markdown",
   "metadata": {},
   "source": [
    "Que sont ces classes A ?"
   ]
  },
  {
   "cell_type": "code",
   "execution_count": 65,
   "metadata": {
    "collapsed": false
   },
   "outputs": [
    {
     "data": {
      "text/plain": [
       "[(u'132', <pyspark.resultiterable.ResultIterable at 0x7fd2de6fedd0>),\n",
       " (u'10', <pyspark.resultiterable.ResultIterable at 0x7fd2de56f950>)]"
      ]
     },
     "execution_count": 65,
     "metadata": {},
     "output_type": "execute_result"
    }
   ],
   "source": [
    "classA.top(10)"
   ]
  },
  {
   "cell_type": "markdown",
   "metadata": {},
   "source": [
    "Hum, ok, les entrées du groupement sont dans un itérateur imbriqué.\n",
    "Regardons voir le contenu de ces itérateurs."
   ]
  },
  {
   "cell_type": "code",
   "execution_count": 96,
   "metadata": {
    "collapsed": false
   },
   "outputs": [
    {
     "name": "stdout",
     "output_type": "stream",
     "text": [
      "*******************************************************************************************************************\n",
      "\n",
      "* Classe A: 10\n",
      "[u'10.12.33.84', u'10.12.33.84', u'10.12.33.84', u'10.12.33.84', u'10.12.33.84', u'10.12.33.84', u'10.12.33.84', u'10.12.33.84', u'10.12.33.84', u'10.12.33.84', u'10.12.33.84', u'10.12.33.84', u'10.12.33.84', u'10.12.33.84', u'10.12.33.84', u'10.12.33.84', u'10.12.33.84', u'10.12.33.84', u'10.12.33.84', u'10.12.33.84', u'10.12.33.84', u'10.12.33.84', u'10.12.33.84', u'10.12.33.84', u'10.12.33.84', u'10.12.33.84', u'10.12.33.84', u'10.12.33.84', u'10.12.33.84', u'10.12.33.84', u'10.12.33.84', u'10.12.33.84', u'10.12.33.84', u'10.12.33.84', u'10.12.33.84', u'10.12.33.84', u'10.12.33.84', u'10.12.33.84', u'10.12.33.84', u'10.12.33.84', u'10.12.33.84', u'10.12.33.84', u'10.12.33.84', u'10.12.33.84', u'10.12.33.84', u'10.12.33.84', u'10.12.33.84', u'10.12.33.84', u'10.12.33.84', u'10.12.33.84', u'10.12.33.84', u'10.12.33.84', u'10.12.33.84', u'10.12.33.84', u'10.12.33.84', u'10.12.33.84', u'10.12.33.84', u'10.12.33.84', u'10.12.33.84', u'10.12.33.84', u'10.12.33.84', u'10.12.33.84', u'10.12.33.84', u'10.12.33.84', u'10.12.33.84', u'10.12.33.84', u'10.12.33.84', u'10.12.33.84', u'10.12.33.84', u'10.12.33.84', u'10.12.33.84', u'10.12.33.84', u'10.12.33.84', u'10.12.33.84', u'10.12.33.84', u'10.12.33.84', u'10.12.33.84', u'10.12.33.84', u'10.12.33.84', u'10.12.33.84', u'10.12.33.84', u'10.12.33.84', u'10.12.33.84', u'10.12.33.84', u'10.12.33.84', u'10.12.33.84', u'10.12.33.84', u'10.12.33.84', u'10.12.33.84', u'10.12.33.84', u'10.12.33.84', u'10.40.103.13']\n",
      "*******************************************************************************************************************\n",
      "\n",
      "* Classe A: 132\n",
      "[u'132.203.240.99', u'132.203.240.99', u'132.203.240.99', u'132.203.243.5', u'132.203.243.4', u'132.203.52.126', u'132.203.52.126']\n"
     ]
    }
   ],
   "source": [
    "result = classA.collect()\n",
    "\n",
    "for (key, values) in result:\n",
    "    print (\"*\" * 115) + \"\\n\"\n",
    "    print (\"* Classe A: \" + key)\n",
    "    print (values.data)\n",
    "    "
   ]
  },
  {
   "cell_type": "markdown",
   "metadata": {},
   "source": [
    "\n",
    "Oh! Les duplicats ne sont pas enlevés des valeurs groupées.\n",
    "Pouvons nous les rendre unique?\n",
    "\n",
    "\n",
    "Oui: avant de procéder au groupement, on rend les IP uniques."
   ]
  },
  {
   "cell_type": "code",
   "execution_count": 103,
   "metadata": {
    "collapsed": false
   },
   "outputs": [
    {
     "data": {
      "text/plain": [
       "2"
      ]
     },
     "execution_count": 103,
     "metadata": {},
     "output_type": "execute_result"
    }
   ],
   "source": [
    "classA = ip.distinct().groupBy(lambda x: x.split(\".\")[0])\n",
    "classA.count()"
   ]
  },
  {
   "cell_type": "code",
   "execution_count": 104,
   "metadata": {
    "collapsed": false
   },
   "outputs": [
    {
     "name": "stdout",
     "output_type": "stream",
     "text": [
      "*******************************************************************************************************************\n",
      "\n",
      "* Classe A: 132\n",
      "[u'132.203.243.5', u'132.203.240.99', u'132.203.243.4', u'132.203.52.126']\n",
      "*******************************************************************************************************************\n",
      "\n",
      "* Classe A: 10\n",
      "[u'10.40.103.13', u'10.12.33.84', u'10.12.33.117']\n"
     ]
    }
   ],
   "source": [
    "result = classA.collect()\n",
    "\n",
    "for (key, values) in result:\n",
    "    print (\"*\" * 115) + \"\\n\"\n",
    "    print (\"* Classe A: \" + key)\n",
    "    print (values.data)"
   ]
  },
  {
   "cell_type": "markdown",
   "metadata": {},
   "source": [
    "Mieux non?\n"
   ]
  },
  {
   "cell_type": "markdown",
   "metadata": {},
   "source": [
    "#  Pairs RDD\n",
    "Un RDD ne se compose pas seulement d'une colonne.. \n",
    "On peut utiliser les pairsRdds."
   ]
  },
  {
   "cell_type": "code",
   "execution_count": 130,
   "metadata": {
    "collapsed": false
   },
   "outputs": [
    {
     "data": {
      "text/plain": [
       "[(u'132.203.52.126', 1),\n",
       " (u'132.203.52.126', 1),\n",
       " (u'132.203.243.5', 1),\n",
       " (u'132.203.243.4', 1),\n",
       " (u'132.203.240.99', 1),\n",
       " (u'132.203.240.99', 1),\n",
       " (u'132.203.240.99', 1),\n",
       " (u'10.40.103.13', 1),\n",
       " (u'10.12.33.84', 1),\n",
       " (u'10.12.33.84', 1)]"
      ]
     },
     "execution_count": 130,
     "metadata": {},
     "output_type": "execute_result"
    }
   ],
   "source": [
    "pairRDD = ip.map(lambda x: (x,1))\n",
    "pairRDD.top(10)\n",
    "#grouped = pairRDD.groupByKey().top(10)\n",
    "#for (key, value) in grouped:\n",
    "#    print \"***\" + key + \"***\"\n",
    "#    for val in value:\n",
    "#        print val\n",
    "\n",
    "\n",
    "    "
   ]
  },
  {
   "cell_type": "markdown",
   "metadata": {},
   "source": [
    "Tenter de décompter le nombre de requête par adresse IP, on se sert du pair RDD qui a 1 pour chaque entrée."
   ]
  },
  {
   "cell_type": "code",
   "execution_count": 131,
   "metadata": {
    "collapsed": false
   },
   "outputs": [
    {
     "data": {
      "text/plain": [
       "[(u'132.203.52.126', 2),\n",
       " (u'132.203.243.5', 1),\n",
       " (u'132.203.243.4', 1),\n",
       " (u'132.203.240.99', 3),\n",
       " (u'10.40.103.13', 1),\n",
       " (u'10.12.33.84', 91),\n",
       " (u'10.12.33.117', 1)]"
      ]
     },
     "execution_count": 131,
     "metadata": {},
     "output_type": "execute_result"
    }
   ],
   "source": [
    "pairRDD.reduceByKey(lambda x,y: x+y).top(10)"
   ]
  },
  {
   "cell_type": "markdown",
   "metadata": {},
   "source": [
    "OK!"
   ]
  },
  {
   "cell_type": "markdown",
   "metadata": {},
   "source": [
    "# Trouver le nombre d'accès par IP\n",
    "\n"
   ]
  }
 ],
 "metadata": {
  "kernelspec": {
   "display_name": "Python 2",
   "language": "python",
   "name": "python2"
  },
  "language_info": {
   "codemirror_mode": {
    "name": "ipython",
    "version": 2
   },
   "file_extension": ".py",
   "mimetype": "text/x-python",
   "name": "python",
   "nbconvert_exporter": "python",
   "pygments_lexer": "ipython2",
   "version": "2.7.11"
  }
 },
 "nbformat": 4,
 "nbformat_minor": 0
}
