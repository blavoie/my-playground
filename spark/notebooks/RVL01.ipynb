{
 "cells": [
  {
   "cell_type": "markdown",
   "metadata": {},
   "source": [
    "# Exemple pour une journée, avec l'API"
   ]
  },
  {
   "cell_type": "code",
   "execution_count": 1,
   "metadata": {
    "collapsed": false
   },
   "outputs": [],
   "source": [
    "# Pointer vers un index et un type.\n",
    "# Cela crée un DataFrame\n",
    "acces20160831 = sqlContext.read.format(\"org.elasticsearch.spark.sql\").load(\"ul-ena-pr-2016.08.31/acces\")"
   ]
  },
  {
   "cell_type": "code",
   "execution_count": 2,
   "metadata": {
    "collapsed": true
   },
   "outputs": [],
   "source": [
    "# Supprimer la structure geoip car cause problèmes (à investiguer ultérieurement)\n",
    "# Probablement le type 'ip'?\n",
    "acces20160831 = acces20160831.drop('geoip')"
   ]
  },
  {
   "cell_type": "code",
   "execution_count": 3,
   "metadata": {
    "collapsed": true
   },
   "outputs": [],
   "source": [
    "#  Rendre accessible le DataFrame à l'engin SQL\n",
    "acces20160831.registerTempTable(\"acces20160831\")"
   ]
  },
  {
   "cell_type": "code",
   "execution_count": 4,
   "metadata": {
    "collapsed": false
   },
   "outputs": [
    {
     "data": {
      "text/plain": [
       "DataFrame[@timestamp: timestamp, @version: string, agent: string, beat: struct<hostname:string,name:string>, code_retour: string, commun: struct<code_utilisateur:string,ip_dst_ipv4:string,ip_src:string,ip_src_ipv4:string>, host: string, id_requete: string, input_type: string, message: string, methode_http: string, offset: bigint, port: string, rvl: struct<client:string,index:string,indexer:string,proxy:string>, source: string, tags: array<string>, temps_reponse: bigint, type: string, ul: struct<environnement:string,numero_serveur:string,role_serveur:string,serveur:string,sigle_systeme:string>, url: string, wls: struct<application:string,domaine:string,managed_server:string>]"
      ]
     },
     "execution_count": 4,
     "metadata": {},
     "output_type": "execute_result"
    }
   ],
   "source": [
    "# Si on désire des performances extrêmes, on peut mettre en cache le contenu de ce DataFrame/Table\n",
    "# La mise en cache est lazy et s'effectue à la première «action» qui sera lente, mais après cela, tout deviendrait rapide!\n",
    "acces20160831.cache()"
   ]
  },
  {
   "cell_type": "markdown",
   "metadata": {},
   "source": [
    "# Générer une table temporaire par jour"
   ]
  },
  {
   "cell_type": "code",
   "execution_count": 5,
   "metadata": {
    "collapsed": false
   },
   "outputs": [],
   "source": [
    "# Directement dans le SQL Context avec une opération de CREATE TEMPORARY TABLE\n",
    "# On utilise une boucle\n",
    "for i in range(1,10):        \n",
    "    i = str(i).zfill(2)\n",
    "    sqlCtx.sql(\n",
    "       \"CREATE TEMPORARY TABLE acces201609\" + i +  \n",
    "       \" USING org.elasticsearch.spark.sql \" +  \n",
    "        \"OPTIONS (resource 'ul-ena-pr-2016.09.\" + i + \"/acces', scroll_size '100')\" )"
   ]
  },
  {
   "cell_type": "code",
   "execution_count": 6,
   "metadata": {
    "collapsed": false
   },
   "outputs": [
    {
     "data": {
      "text/plain": [
       "[u'acces20160831',\n",
       " u'acces20160901',\n",
       " u'acces20160902',\n",
       " u'acces20160903',\n",
       " u'acces20160904',\n",
       " u'acces20160905',\n",
       " u'acces20160906',\n",
       " u'acces20160907',\n",
       " u'acces20160908',\n",
       " u'acces20160909']"
      ]
     },
     "execution_count": 6,
     "metadata": {},
     "output_type": "execute_result"
    }
   ],
   "source": [
    "# Lister les tables créées\n",
    "sqlCtx.tableNames()"
   ]
  },
  {
   "cell_type": "markdown",
   "metadata": {},
   "source": [
    "# Opérations de base"
   ]
  },
  {
   "cell_type": "code",
   "execution_count": 11,
   "metadata": {
    "collapsed": false
   },
   "outputs": [
    {
     "name": "stdout",
     "output_type": "stream",
     "text": [
      "CPU times: user 3.6 ms, sys: 3.04 ms, total: 6.64 ms\n",
      "Wall time: 1.48 s\n"
     ]
    },
    {
     "data": {
      "text/plain": [
       "[Row(wls=Row(application=u'ena', domaine=u'ena-prod', managed_server=u'ena-server-prod02-a')),\n",
       " Row(wls=Row(application=u'ena', domaine=u'ena-prod', managed_server=u'ena-server-prod04-a')),\n",
       " Row(wls=Row(application=u'ena', domaine=u'ena-prod', managed_server=u'ena-server-prod03-b')),\n",
       " Row(wls=Row(application=u'ena', domaine=u'ena-prod', managed_server=u'ena-server-prod01-b')),\n",
       " Row(wls=Row(application=u'ena', domaine=u'ena-prod', managed_server=u'ena-server-prod01-a')),\n",
       " Row(wls=Row(application=u'ena', domaine=u'ena-prod', managed_server=u'ena-server-prod05-a')),\n",
       " Row(wls=Row(application=u'ena', domaine=u'ena-prod', managed_server=u'ena-server-prod04-b')),\n",
       " Row(wls=Row(application=u'ena', domaine=u'ena-prod', managed_server=u'ena-server-prod03-a')),\n",
       " Row(wls=Row(application=u'ena', domaine=u'ena-prod', managed_server=u'ena-server-prod05-b')),\n",
       " Row(wls=Row(application=u'ena', domaine=u'ena-prod', managed_server=u'ena-server-prod02-b'))]"
      ]
     },
     "execution_count": 11,
     "metadata": {},
     "output_type": "execute_result"
    }
   ],
   "source": [
    "# Aller chercher les valeurs distinctes pour un champ/objet\n",
    "%time acces20160831.select(\"wls\").distinct().collect()"
   ]
  },
  {
   "cell_type": "code",
   "execution_count": 12,
   "metadata": {
    "collapsed": false
   },
   "outputs": [
    {
     "name": "stdout",
     "output_type": "stream",
     "text": [
      "CPU times: user 9.18 ms, sys: 2.05 ms, total: 11.2 ms\n",
      "Wall time: 1.51 s\n"
     ]
    },
    {
     "data": {
      "text/plain": [
       "[Row(wls=Row(application=u'ena', domaine=u'ena-prod', managed_server=u'ena-server-prod02-a')),\n",
       " Row(wls=Row(application=u'ena', domaine=u'ena-prod', managed_server=u'ena-server-prod04-a')),\n",
       " Row(wls=Row(application=u'ena', domaine=u'ena-prod', managed_server=u'ena-server-prod03-b')),\n",
       " Row(wls=Row(application=u'ena', domaine=u'ena-prod', managed_server=u'ena-server-prod01-b')),\n",
       " Row(wls=Row(application=u'ena', domaine=u'ena-prod', managed_server=u'ena-server-prod01-a')),\n",
       " Row(wls=Row(application=u'ena', domaine=u'ena-prod', managed_server=u'ena-server-prod05-a')),\n",
       " Row(wls=Row(application=u'ena', domaine=u'ena-prod', managed_server=u'ena-server-prod04-b')),\n",
       " Row(wls=Row(application=u'ena', domaine=u'ena-prod', managed_server=u'ena-server-prod03-a')),\n",
       " Row(wls=Row(application=u'ena', domaine=u'ena-prod', managed_server=u'ena-server-prod05-b')),\n",
       " Row(wls=Row(application=u'ena', domaine=u'ena-prod', managed_server=u'ena-server-prod02-b'))]"
      ]
     },
     "execution_count": 12,
     "metadata": {},
     "output_type": "execute_result"
    }
   ],
   "source": [
    "# Faire l'équivalent en SQL\n",
    "%time sqlCtx.sql(\"select distinct wls from acces20160831\").collect()"
   ]
  },
  {
   "cell_type": "code",
   "execution_count": 14,
   "metadata": {
    "collapsed": false,
    "scrolled": true
   },
   "outputs": [
    {
     "name": "stdout",
     "output_type": "stream",
     "text": [
      "CPU times: user 2.88 ms, sys: 1.35 ms, total: 4.23 ms\n",
      "Wall time: 2.42 s\n"
     ]
    },
    {
     "data": {
      "text/plain": [
       "[Row(code_utilisateur=u'MP-COM', nb=14645),\n",
       " Row(code_utilisateur=u'DEPER', nb=5698),\n",
       " Row(code_utilisateur=u'LOAUD27', nb=4698),\n",
       " Row(code_utilisateur=u'MFLAL', nb=4697),\n",
       " Row(code_utilisateur=u'MCBEL', nb=4187),\n",
       " Row(code_utilisateur=u'MILAB', nb=4115),\n",
       " Row(code_utilisateur=u'FRHUB6', nb=3541),\n",
       " Row(code_utilisateur=u'JUBER229', nb=3534),\n",
       " Row(code_utilisateur=u'MDHAM1', nb=3520),\n",
       " Row(code_utilisateur=u'NACOT29', nb=3506)]"
      ]
     },
     "execution_count": 14,
     "metadata": {},
     "output_type": "execute_result"
    }
   ],
   "source": [
    "# Nomre d'accès par utilisateur\n",
    "%time sqlCtx.sql(\"select commun.code_utilisateur, count(*) as nb from acces20160831 where commun.code_utilisateur is not null group by commun.code_utilisateur order by nb desc limit 10\").collect()"
   ]
  },
  {
   "cell_type": "code",
   "execution_count": 71,
   "metadata": {
    "collapsed": false
   },
   "outputs": [
    {
     "name": "stdout",
     "output_type": "stream",
     "text": [
      "CPU times: user 64.9 ms, sys: 18.3 ms, total: 83.2 ms\n",
      "Wall time: 7min 45s\n"
     ]
    },
    {
     "data": {
      "text/plain": [
       "[Row(code_utilisateur=u'MP-COM', nb=12797),\n",
       " Row(code_utilisateur=u'FRGRE102', nb=6198),\n",
       " Row(code_utilisateur=u'EMJON2', nb=6037),\n",
       " Row(code_utilisateur=u'AAGIG4', nb=5637),\n",
       " Row(code_utilisateur=u'ANGRO33', nb=5612),\n",
       " Row(code_utilisateur=u'LISIM54', nb=5387),\n",
       " Row(code_utilisateur=u'MASAU91', nb=5301),\n",
       " Row(code_utilisateur=u'JAEAV', nb=5068),\n",
       " Row(code_utilisateur=u'CALAL43', nb=4783),\n",
       " Row(code_utilisateur=u'MYLAR37', nb=4642)]"
      ]
     },
     "execution_count": 71,
     "metadata": {},
     "output_type": "execute_result"
    }
   ],
   "source": [
    "# Essayer avec une journée qui n'est pas en cache\n",
    "%time sqlCtx.sql(\"select commun.code_utilisateur, count(*) as nb from acces20160908 where commun.code_utilisateur is not null group by commun.code_utilisateur order by nb desc limit 10\").collect()"
   ]
  },
  {
   "cell_type": "code",
   "execution_count": null,
   "metadata": {
    "collapsed": true
   },
   "outputs": [],
   "source": []
  }
 ],
 "metadata": {
  "kernelspec": {
   "display_name": "Python 2",
   "language": "python",
   "name": "python2"
  },
  "language_info": {
   "codemirror_mode": {
    "name": "ipython",
    "version": 2
   },
   "file_extension": ".py",
   "mimetype": "text/x-python",
   "name": "python",
   "nbconvert_exporter": "python",
   "pygments_lexer": "ipython2",
   "version": "2.7.10"
  }
 },
 "nbformat": 4,
 "nbformat_minor": 0
}
