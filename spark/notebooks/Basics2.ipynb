{
 "cells": [
  {
   "cell_type": "markdown",
   "metadata": {},
   "source": [
    "# Travailler avec les paires clefs-valeurs\n"
   ]
  },
  {
   "cell_type": "markdown",
   "metadata": {},
   "source": [
    "## Chargement des données"
   ]
  },
  {
   "cell_type": "code",
   "execution_count": 10,
   "metadata": {
    "collapsed": true
   },
   "outputs": [],
   "source": [
    "num1 = sc.parallelize([1,1,1,2,3,4,5,5,6,7,8,8,8])\n",
    "num2 = sc.parallelize(xrange(4,11))\n",
    "txt1 = sc.parallelize(['allo les amis', 'ne riez pas', 'de mon apprentissage'])\n",
    "txt2 = sc.textFile(\"/etc/passwd\")\n",
    "txt3 = sc.parallelize([\"BRLAV35;Lavoie;Bruno\",\"FRPOL9;Poliquin;Frederic\",\"DOASS4;Asselin;Dominique\",\"ALWHI3;Whittom;Allen\"])"
   ]
  },
  {
   "cell_type": "markdown",
   "metadata": {},
   "source": [
    "##  Créer des pairs-RDDs"
   ]
  },
  {
   "cell_type": "code",
   "execution_count": 40,
   "metadata": {
    "collapsed": false
   },
   "outputs": [
    {
     "data": {
      "text/plain": [
       "[(1, 1),\n",
       " (1, 1),\n",
       " (1, 1),\n",
       " (2, 4),\n",
       " (3, 9),\n",
       " (4, 16),\n",
       " (5, 25),\n",
       " (5, 25),\n",
       " (6, 36),\n",
       " (7, 49),\n",
       " (8, 64),\n",
       " (8, 64),\n",
       " (8, 64)]"
      ]
     },
     "execution_count": 40,
     "metadata": {},
     "output_type": "execute_result"
    }
   ],
   "source": [
    "# Créer une paire numéro --> valeur au carré\n",
    "pair1 = num1.map(lambda x: (x, x*x))\n",
    "pair1.collect()"
   ]
  },
  {
   "cell_type": "code",
   "execution_count": 23,
   "metadata": {
    "collapsed": false
   },
   "outputs": [
    {
     "data": {
      "text/plain": [
       "[('BRLAV35', 'Lavoie;Bruno'),\n",
       " ('FRPOL9', 'Poliquin;Frederic'),\n",
       " ('DOASS4', 'Asselin;Dominique'),\n",
       " ('ALWHI3', 'Whittom;Allen')]"
      ]
     },
     "execution_count": 23,
     "metadata": {},
     "output_type": "execute_result"
    }
   ],
   "source": [
    "# Créer une paire du type code_utilisateur -> informations\n",
    "pair3 = txt3.map(lambda x: (x.split(\";\", 1)[0], x.split(\";\", 1)[1]))\n",
    "pair3.collect()"
   ]
  },
  {
   "cell_type": "markdown",
   "metadata": {},
   "source": [
    "## Transformations sur les pairs-RDDs"
   ]
  },
  {
   "cell_type": "markdown",
   "metadata": {},
   "source": [
    "### reduceByKey(func)\n",
    "__Utilité:__ Fusionne ensemble les valeurs de chaque clef en utilisant une fonction associative."
   ]
  },
  {
   "cell_type": "code",
   "execution_count": 25,
   "metadata": {
    "collapsed": false
   },
   "outputs": [
    {
     "data": {
      "text/plain": [
       "[(8, 192), (4, 16), (1, 3), (5, 50), (2, 4), (6, 36), (3, 9), (7, 49)]"
      ]
     },
     "execution_count": 25,
     "metadata": {},
     "output_type": "execute_result"
    }
   ],
   "source": [
    "pair1.reduceByKey(lambda x,y: x + y).collect()"
   ]
  },
  {
   "cell_type": "code",
   "execution_count": 34,
   "metadata": {
    "collapsed": false
   },
   "outputs": [
    {
     "data": {
      "text/plain": [
       "[(8, True), (4, 16), (1, True), (5, True), (2, 4), (6, 36), (3, 9), (7, 49)]"
      ]
     },
     "execution_count": 34,
     "metadata": {},
     "output_type": "execute_result"
    }
   ],
   "source": [
    "# On peut voir que la fonction ne peut pas être appelée s'il y a seulement qu'un élément pour une clef.\n",
    "pair1.reduceByKey(lambda x,y: x>0).collect()"
   ]
  },
  {
   "cell_type": "markdown",
   "metadata": {},
   "source": [
    "### groupByKey()\n",
    "__Utilité:__ Groupe les valeurs qui ont la même clef. Ressemble drôlement un à un GROUP BY + COLLECT en SQL."
   ]
  },
  {
   "cell_type": "code",
   "execution_count": 41,
   "metadata": {
    "collapsed": false
   },
   "outputs": [
    {
     "data": {
      "text/plain": [
       "[(8, <pyspark.resultiterable.ResultIterable at 0x7f1b943bd790>),\n",
       " (4, <pyspark.resultiterable.ResultIterable at 0x7f1b943a6090>),\n",
       " (1, <pyspark.resultiterable.ResultIterable at 0x7f1b943a65d0>),\n",
       " (5, <pyspark.resultiterable.ResultIterable at 0x7f1b943a62d0>),\n",
       " (2, <pyspark.resultiterable.ResultIterable at 0x7f1b943a64d0>),\n",
       " (6, <pyspark.resultiterable.ResultIterable at 0x7f1b943a6550>),\n",
       " (3, <pyspark.resultiterable.ResultIterable at 0x7f1b943a6450>),\n",
       " (7, <pyspark.resultiterable.ResultIterable at 0x7f1b943a6410>)]"
      ]
     },
     "execution_count": 41,
     "metadata": {},
     "output_type": "execute_result"
    }
   ],
   "source": [
    "# retourne un itérable...\n",
    "pair1.groupByKey().collect()"
   ]
  },
  {
   "cell_type": "code",
   "execution_count": 39,
   "metadata": {
    "collapsed": false
   },
   "outputs": [
    {
     "data": {
      "text/plain": [
       "[(8, [64, 64, 64]),\n",
       " (4, [16]),\n",
       " (1, [1, 1, 1]),\n",
       " (5, [25, 25]),\n",
       " (2, [4]),\n",
       " (6, [36]),\n",
       " (3, [9]),\n",
       " (7, [49])]"
      ]
     },
     "execution_count": 39,
     "metadata": {},
     "output_type": "execute_result"
    }
   ],
   "source": [
    "# petit truc pour visualiser, on fait un map sur les valeurs (mapValues)...\n",
    "pair1.groupByKey().mapValues(list).collect()"
   ]
  },
  {
   "cell_type": "markdown",
   "metadata": {},
   "source": [
    "### combineByKey(createCombiner, mergeValue, mergeCombiners)\n",
    "__Utilité:__ Combine les valeurs ayant la même clef, en retournant un type différent.\n",
    "\n",
    "Generic function to combine the elements for each key using a custom set of aggregation functions.\n",
    "\n",
    "Turns an RDD[(K, V)] into a result of type RDD[(K, C)], for a “combined type” C. Note that V and C can be different – for example, one might group an RDD of type (Int, Int) into an RDD of type (Int, List[Int]).\n",
    "\n",
    "Users provide three functions:\n",
    "\n",
    "- __createCombiner__, which turns a V into a C (e.g., creates a one-element list)\n",
    "- __mergeValue__, to merge a V into a C (e.g., adds it to the end of a list)\n",
    "- __mergeCombiners__, to combine two C’s into a single one.\n",
    "\n",
    "Lien: http://spark.apache.org/docs/latest/api/python/pyspark.html?highlight=sample#pyspark.RDD.combineByKey"
   ]
  },
  {
   "cell_type": "code",
   "execution_count": 44,
   "metadata": {
    "collapsed": false
   },
   "outputs": [
    {
     "data": {
      "text/plain": [
       "[(1, 1),\n",
       " (1, 1),\n",
       " (1, 1),\n",
       " (2, 4),\n",
       " (3, 9),\n",
       " (4, 16),\n",
       " (5, 25),\n",
       " (5, 25),\n",
       " (6, 36),\n",
       " (7, 49),\n",
       " (8, 64),\n",
       " (8, 64),\n",
       " (8, 64)]"
      ]
     },
     "execution_count": 44,
     "metadata": {},
     "output_type": "execute_result"
    }
   ],
   "source": [
    "pair1.collect()"
   ]
  },
  {
   "cell_type": "code",
   "execution_count": 107,
   "metadata": {
    "collapsed": false
   },
   "outputs": [
    {
     "data": {
      "text/plain": [
       "[(8, '64*64*64'),\n",
       " (4, '16'),\n",
       " (1, '1*1*1'),\n",
       " (5, '25*25'),\n",
       " (2, '4'),\n",
       " (6, '36'),\n",
       " (3, '9'),\n",
       " (7, '49')]"
      ]
     },
     "execution_count": 107,
     "metadata": {},
     "output_type": "execute_result"
    }
   ],
   "source": [
    "# Convertir le type comme c'est réellement l'intention de la fonction\n",
    "# Aucun + ne devrait apparaitre en local si nous n'avons pas plus d'une partitions.\n",
    "\n",
    "pair1.combineByKey(lambda x: str(x), \n",
    "                   lambda x,y: x + '*' + str(y), \n",
    "                   lambda x,y: x + '+' + y).collect()\n"
   ]
  },
  {
   "cell_type": "code",
   "execution_count": 119,
   "metadata": {
    "collapsed": false
   },
   "outputs": [
    {
     "data": {
      "text/plain": [
       "[(8, [64, 64, 64]),\n",
       " (4, [16]),\n",
       " (1, [1, 1, 1]),\n",
       " (5, [25, 25]),\n",
       " (2, [4]),\n",
       " (6, [36]),\n",
       " (3, [9]),\n",
       " (7, [49])]"
      ]
     },
     "execution_count": 119,
     "metadata": {},
     "output_type": "execute_result"
    }
   ],
   "source": [
    "# On peut émuler un groupByKey\n",
    "\n",
    "pair1.combineByKey(lambda v:     [v], \n",
    "                   lambda c,v:   c + [v], \n",
    "                   lambda c1,c2: c1 + c2).collect()\n"
   ]
  },
  {
   "cell_type": "markdown",
   "metadata": {},
   "source": [
    "### mapValues(func)\n",
    "__Utilité:__ appliquer une fonction à chaque valeur sans changer la clef."
   ]
  },
  {
   "cell_type": "code",
   "execution_count": 124,
   "metadata": {
    "collapsed": false
   },
   "outputs": [
    {
     "data": {
      "text/plain": [
       "[(1, 'x2'),\n",
       " (1, 'x2'),\n",
       " (1, 'x2'),\n",
       " (2, 'x8'),\n",
       " (3, 'x18'),\n",
       " (4, 'x32'),\n",
       " (5, 'x50'),\n",
       " (5, 'x50'),\n",
       " (6, 'x72'),\n",
       " (7, 'x98'),\n",
       " (8, 'x128'),\n",
       " (8, 'x128'),\n",
       " (8, 'x128')]"
      ]
     },
     "execution_count": 124,
     "metadata": {},
     "output_type": "execute_result"
    }
   ],
   "source": [
    "pair1.mapValues(lambda x: 'x' + str(x*2)).collect()"
   ]
  },
  {
   "cell_type": "markdown",
   "metadata": {},
   "source": [
    "### flatMapValues(func)\n",
    "__Utilité:__ appliquer une fonction qui retourne un itérateur pour chaque valeur d'un pair-RDD et chaque élément retourné produit une entrée clef-valeur avec la vieille clef. Souvent utilisé pour tokenization."
   ]
  },
  {
   "cell_type": "code",
   "execution_count": 127,
   "metadata": {
    "collapsed": false
   },
   "outputs": [
    {
     "data": {
      "text/plain": [
       "[('BRLAV35', 'Lavoie;Bruno'),\n",
       " ('FRPOL9', 'Poliquin;Frederic'),\n",
       " ('DOASS4', 'Asselin;Dominique'),\n",
       " ('ALWHI3', 'Whittom;Allen')]"
      ]
     },
     "execution_count": 127,
     "metadata": {},
     "output_type": "execute_result"
    }
   ],
   "source": [
    "pair3.collect()"
   ]
  },
  {
   "cell_type": "code",
   "execution_count": 130,
   "metadata": {
    "collapsed": false
   },
   "outputs": [
    {
     "data": {
      "text/plain": [
       "[('BRLAV35', 'Lavoie'),\n",
       " ('BRLAV35', 'Bruno'),\n",
       " ('FRPOL9', 'Poliquin'),\n",
       " ('FRPOL9', 'Frederic'),\n",
       " ('DOASS4', 'Asselin'),\n",
       " ('DOASS4', 'Dominique'),\n",
       " ('ALWHI3', 'Whittom'),\n",
       " ('ALWHI3', 'Allen')]"
      ]
     },
     "execution_count": 130,
     "metadata": {},
     "output_type": "execute_result"
    }
   ],
   "source": [
    "pair3.flatMapValues(lambda x: x.split(';')).collect()"
   ]
  },
  {
   "cell_type": "code",
   "execution_count": 134,
   "metadata": {
    "collapsed": false
   },
   "outputs": [
    {
     "data": {
      "text/plain": [
       "[('BRLAV35', ['Lavoie', 'Bruno']),\n",
       " ('FRPOL9', ['Poliquin', 'Frederic']),\n",
       " ('DOASS4', ['Asselin', 'Dominique']),\n",
       " ('ALWHI3', ['Whittom', 'Allen'])]"
      ]
     },
     "execution_count": 134,
     "metadata": {},
     "output_type": "execute_result"
    }
   ],
   "source": [
    "# Peut aussi être utile pour pivoter les valeurs qui sont des listes\n",
    "# Créer les listes en valeurs...\n",
    "temp = pair3.mapValues(lambda x: x.split(';'))\n",
    "temp.collect()"
   ]
  },
  {
   "cell_type": "code",
   "execution_count": 136,
   "metadata": {
    "collapsed": false
   },
   "outputs": [
    {
     "data": {
      "text/plain": [
       "[('BRLAV35', 'Lavoie'),\n",
       " ('BRLAV35', 'Bruno'),\n",
       " ('FRPOL9', 'Poliquin'),\n",
       " ('FRPOL9', 'Frederic'),\n",
       " ('DOASS4', 'Asselin'),\n",
       " ('DOASS4', 'Dominique'),\n",
       " ('ALWHI3', 'Whittom'),\n",
       " ('ALWHI3', 'Allen')]"
      ]
     },
     "execution_count": 136,
     "metadata": {},
     "output_type": "execute_result"
    }
   ],
   "source": [
    "temp.flatMapValues(lambda x: x).collect()"
   ]
  }
 ],
 "metadata": {
  "kernelspec": {
   "display_name": "Python [Root]",
   "language": "python",
   "name": "Python [Root]"
  },
  "language_info": {
   "codemirror_mode": {
    "name": "ipython",
    "version": 2
   },
   "file_extension": ".py",
   "mimetype": "text/x-python",
   "name": "python",
   "nbconvert_exporter": "python",
   "pygments_lexer": "ipython2",
   "version": "2.7.12"
  }
 },
 "nbformat": 4,
 "nbformat_minor": 0
}
